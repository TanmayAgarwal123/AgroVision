{
  "nbformat": 4,
  "nbformat_minor": 0,
  "metadata": {
    "colab": {
      "provenance": []
    },
    "kernelspec": {
      "name": "python3",
      "display_name": "Python 3"
    },
    "language_info": {
      "name": "python"
    }
  },
  "cells": [
    {
      "cell_type": "code",
      "execution_count": null,
      "metadata": {
        "colab": {
          "base_uri": "https://localhost:8080/"
        },
        "id": "pKMGv1ipwX3u",
        "outputId": "80ca90ea-d809-4349-e04c-5148ce3d6682"
      },
      "outputs": [
        {
          "output_type": "stream",
          "name": "stdout",
          "text": [
            "Collecting pyngrok\n",
            "  Downloading pyngrok-7.1.5-py3-none-any.whl (22 kB)\n",
            "Requirement already satisfied: PyYAML>=5.1 in /usr/local/lib/python3.10/dist-packages (from pyngrok) (6.0.1)\n",
            "Installing collected packages: pyngrok\n",
            "Successfully installed pyngrok-7.1.5\n"
          ]
        }
      ],
      "source": [
        "!pip install pyngrok"
      ]
    },
    {
      "cell_type": "code",
      "source": [
        "from flask import Flask\n",
        "from pyngrok import ngrok"
      ],
      "metadata": {
        "id": "j3kfWepRwgX8"
      },
      "execution_count": null,
      "outputs": []
    },
    {
      "cell_type": "code",
      "source": [
        "port_no=5000"
      ],
      "metadata": {
        "id": "ovH9zwHcwory"
      },
      "execution_count": null,
      "outputs": []
    },
    {
      "cell_type": "code",
      "source": [
        "app = Flask(__name__)"
      ],
      "metadata": {
        "id": "XNHv6JLhwqyB"
      },
      "execution_count": null,
      "outputs": []
    },
    {
      "cell_type": "code",
      "source": [
        "import flask\n",
        "import secrets\n",
        "from flask import Flask, render_template, request,jsonify\n",
        "import pickle\n",
        "import numpy as np"
      ],
      "metadata": {
        "id": "qaXOYGN1wtfs"
      },
      "execution_count": null,
      "outputs": []
    },
    {
      "cell_type": "code",
      "source": [
        "ngrok.set_auth_token(\"2djD2YFq28fgRBKLfH2ACtWhcvQ_79MeVn97kWUzsMgia9Dnd\")\n",
        "public_url=ngrok.connect(port_no).public_url\n",
        "flask_app= Flask(__name__)\n",
        "model = pickle.load(open(\"model.pkl\",\"rb\"))\n",
        "@app.route('/')\n",
        "def home8():\n",
        "  return f\"running\"\n",
        "print(f\"public url {public_url}\")\n",
        "\n",
        "@app.route('/predict', methods=[\"POST\"])\n",
        "def predict6():\n",
        "    if request.is_json:\n",
        "        data = request.get_json()\n",
        "\n",
        "        # Print JSON input\n",
        "        print(\"JSON Input:\", data)\n",
        "\n",
        "        # Perform prediction\n",
        "        float_features = [float(x) for x in data.values()]\n",
        "        features = [float_features]\n",
        "        prediction = model.predict(features)\n",
        "\n",
        "        # Prepare response JSON\n",
        "        response = {\"input_data\": data, \"prediction\": prediction.tolist()}\n",
        "\n",
        "        return jsonify(response), 200\n",
        "    else:\n",
        "        return jsonify({\"error\": \"Request must be in JSON format\"}), 400\n",
        "\n",
        "app.run(port=port_no)"
      ],
      "metadata": {
        "colab": {
          "base_uri": "https://localhost:8080/"
        },
        "id": "2D-68Ft9w5Y9",
        "outputId": "d79a2eae-ad93-4296-a0df-010addb7155c"
      },
      "execution_count": null,
      "outputs": [
        {
          "metadata": {
            "tags": null
          },
          "name": "stdout",
          "output_type": "stream",
          "text": [
            "public url https://4715-34-75-138-86.ngrok-free.app\n",
            " * Serving Flask app '__main__'\n",
            " * Debug mode: off\n"
          ]
        },
        {
          "metadata": {
            "tags": null
          },
          "name": "stderr",
          "output_type": "stream",
          "text": [
            "INFO:werkzeug:\u001b[31m\u001b[1mWARNING: This is a development server. Do not use it in a production deployment. Use a production WSGI server instead.\u001b[0m\n",
            " * Running on http://127.0.0.1:5000\n",
            "INFO:werkzeug:\u001b[33mPress CTRL+C to quit\u001b[0m\n",
            "/usr/local/lib/python3.10/dist-packages/sklearn/base.py:439: UserWarning: X does not have valid feature names, but RandomForestClassifier was fitted with feature names\n",
            "  warnings.warn(\n",
            "INFO:werkzeug:127.0.0.1 - - [15/Mar/2024 20:48:24] \"POST /predict HTTP/1.1\" 200 -\n"
          ]
        },
        {
          "metadata": {
            "tags": null
          },
          "name": "stdout",
          "output_type": "stream",
          "text": [
            "JSON Input: {'Temperature': '29', 'Humidity': '52', 'Moisture': '45', 'SoilType': '2', 'CropType': '8', 'Nitrogen': '12', 'Potassium': '0', 'Phosphorous': '36'}\n"
          ]
        },
        {
          "metadata": {
            "tags": null
          },
          "name": "stderr",
          "output_type": "stream",
          "text": [
            "/usr/local/lib/python3.10/dist-packages/sklearn/base.py:439: UserWarning: X does not have valid feature names, but RandomForestClassifier was fitted with feature names\n",
            "  warnings.warn(\n",
            "INFO:werkzeug:127.0.0.1 - - [15/Mar/2024 20:49:23] \"POST /predict HTTP/1.1\" 200 -\n"
          ]
        },
        {
          "metadata": {
            "tags": null
          },
          "name": "stdout",
          "output_type": "stream",
          "text": [
            "JSON Input: {'Temperature': '29', 'Humidity': '52', 'Moisture': '45', 'SoilType': '2', 'CropType': '8', 'Nitrogen': '12', 'Potassium': '0', 'Phosphorous': '36'}\n"
          ]
        },
        {
          "metadata": {
            "tags": null
          },
          "name": "stderr",
          "output_type": "stream",
          "text": [
            "/usr/local/lib/python3.10/dist-packages/sklearn/base.py:439: UserWarning: X does not have valid feature names, but RandomForestClassifier was fitted with feature names\n",
            "  warnings.warn(\n",
            "INFO:werkzeug:127.0.0.1 - - [15/Mar/2024 21:03:19] \"POST /predict HTTP/1.1\" 200 -\n"
          ]
        },
        {
          "metadata": {
            "tags": null
          },
          "name": "stdout",
          "output_type": "stream",
          "text": [
            "JSON Input: {'CropType': 6, 'Humidity': 44, 'Moisture': 12, 'Nitrogen': 44, 'Phosphorous': 88, 'Potassium': 54, 'SoilType': 2, 'Temperature': 11}\n"
          ]
        }
      ]
    },
    {
      "cell_type": "markdown",
      "source": [
        "# New Section"
      ],
      "metadata": {
        "id": "LsIVK6d_xGyg"
      }
    },
    {
      "cell_type": "code",
      "source": [],
      "metadata": {
        "id": "tTjWksyWw7tL"
      },
      "execution_count": null,
      "outputs": []
    }
  ]
}