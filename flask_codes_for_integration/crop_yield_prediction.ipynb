{
  "nbformat": 4,
  "nbformat_minor": 0,
  "metadata": {
    "colab": {
      "provenance": []
    },
    "kernelspec": {
      "name": "python3",
      "display_name": "Python 3"
    },
    "language_info": {
      "name": "python"
    }
  },
  "cells": [
    {
      "cell_type": "code",
      "execution_count": null,
      "metadata": {
        "colab": {
          "base_uri": "https://localhost:8080/"
        },
        "id": "USoI3IPGX1SZ",
        "outputId": "430e809b-2852-4273-8f95-e10932a65f7a"
      },
      "outputs": [
        {
          "output_type": "stream",
          "name": "stdout",
          "text": [
            "Collecting pyngrok\n",
            "  Downloading pyngrok-7.1.5-py3-none-any.whl (22 kB)\n",
            "Requirement already satisfied: PyYAML>=5.1 in /usr/local/lib/python3.10/dist-packages (from pyngrok) (6.0.1)\n",
            "Installing collected packages: pyngrok\n",
            "Successfully installed pyngrok-7.1.5\n"
          ]
        }
      ],
      "source": [
        "!pip install pyngrok"
      ]
    },
    {
      "cell_type": "code",
      "source": [
        "from flask import Flask\n",
        "from pyngrok import ngrok"
      ],
      "metadata": {
        "id": "RLiDus12X-YK"
      },
      "execution_count": null,
      "outputs": []
    },
    {
      "cell_type": "code",
      "source": [
        "from google.colab import drive\n",
        "drive.mount('/content/drive')"
      ],
      "metadata": {
        "colab": {
          "base_uri": "https://localhost:8080/"
        },
        "id": "tWrqtuq5YPba",
        "outputId": "7bc694e5-d727-4732-9399-0a06de995bcb"
      },
      "execution_count": null,
      "outputs": [
        {
          "output_type": "stream",
          "name": "stdout",
          "text": [
            "Mounted at /content/drive\n"
          ]
        }
      ]
    },
    {
      "cell_type": "code",
      "source": [
        "port_no=5000"
      ],
      "metadata": {
        "id": "FMN6oONQX-au"
      },
      "execution_count": null,
      "outputs": []
    },
    {
      "cell_type": "code",
      "source": [
        "app = Flask(__name__)"
      ],
      "metadata": {
        "id": "s0NB60_rX-dT"
      },
      "execution_count": null,
      "outputs": []
    },
    {
      "cell_type": "code",
      "source": [
        "import flask\n",
        "import secrets\n",
        "from flask import Flask, render_template, request,jsonify\n",
        "import pickle\n",
        "import numpy as np"
      ],
      "metadata": {
        "id": "PQ_lVK9cX-f7"
      },
      "execution_count": null,
      "outputs": []
    },
    {
      "cell_type": "code",
      "source": [
        "ngrok.set_auth_token(\"2djD2YFq28fgRBKLfH2ACtWhcvQ_79MeVn97kWUzsMgia9Dnd\")\n",
        "public_url=ngrok.connect(port_no).public_url\n",
        "flask_app= Flask(__name__)\n",
        "model = pickle.load(open(\"/content/crop_yield.pkl\",\"rb\"))\n",
        "model1 = pickle.load(open(\"/content/drive/MyDrive/newfolder/crop_prediction.pkl\",\"rb\"))\n",
        "\n",
        "# @app.route('/')\n",
        "# def home9():\n",
        "#   return f\"running\"\n",
        "print(f\"public url {public_url}\")\n",
        "# crop yiend\n",
        "@app.route('/yeild', methods=[\"POST\"])\n",
        "def predict15():\n",
        "    if request.is_json:\n",
        "        data = request.get_json()\n",
        "\n",
        "        # Print JSON input\n",
        "        print(\"JSON Input:\", data)\n",
        "\n",
        "        # Perform prediction\n",
        "        float_features = [float(x) for x in data.values()]\n",
        "        features = [float_features]\n",
        "        prediction = model.predict(features)\n",
        "\n",
        "        # Prepare response JSON\n",
        "        response = {\"input_data\": data, \"prediction\": prediction.tolist()}\n",
        "\n",
        "        return jsonify(response), 200\n",
        "    else:\n",
        "        return jsonify({\"error\": \"Request must be in JSON format\"}), 400\n",
        "#crop prediction\n",
        "@app.route('/cropPrediction', methods=[\"POST\"])\n",
        "def predict16():\n",
        "    if request.is_json:\n",
        "        data = request.get_json()\n",
        "\n",
        "        # Print JSON input\n",
        "        print(\"JSON Input:\", data)\n",
        "\n",
        "        # Perform prediction\n",
        "        float_features = [float(x) for x in data.values()]\n",
        "        features = [float_features]\n",
        "        prediction = model1.predict(features)\n",
        "\n",
        "        # Prepare response JSON\n",
        "        response = {\"input_data\": data, \"prediction\": prediction.tolist()}\n",
        "\n",
        "        return jsonify(response), 200\n",
        "    else:\n",
        "        return jsonify({\"error\": \"Request must be in JSON format\"}), 400\n",
        "app.run(port=port_no)"
      ],
      "metadata": {
        "colab": {
          "base_uri": "https://localhost:8080/"
        },
        "id": "P2mIJnxGX-ij",
        "outputId": "0bc2382d-363a-4136-f9d7-09277207499c"
      },
      "execution_count": null,
      "outputs": [
        {
          "metadata": {
            "tags": null
          },
          "name": "stdout",
          "output_type": "stream",
          "text": [
            "public url https://b57c-34-125-246-173.ngrok-free.app\n",
            " * Serving Flask app '__main__'\n",
            " * Debug mode: off\n"
          ]
        },
        {
          "metadata": {
            "tags": null
          },
          "name": "stderr",
          "output_type": "stream",
          "text": [
            "INFO:werkzeug:\u001b[31m\u001b[1mWARNING: This is a development server. Do not use it in a production deployment. Use a production WSGI server instead.\u001b[0m\n",
            " * Running on http://127.0.0.1:5000\n",
            "INFO:werkzeug:\u001b[33mPress CTRL+C to quit\u001b[0m\n",
            "/usr/local/lib/python3.10/dist-packages/sklearn/base.py:439: UserWarning: X does not have valid feature names, but RandomForestRegressor was fitted with feature names\n",
            "  warnings.warn(\n",
            "INFO:werkzeug:127.0.0.1 - - [15/Mar/2024 20:49:12] \"POST /yeild HTTP/1.1\" 200 -\n"
          ]
        },
        {
          "metadata": {
            "tags": null
          },
          "name": "stdout",
          "output_type": "stream",
          "text": [
            "JSON Input: {'Area': '104', 'State_enc': '6', 'Crop_enc': '1', 'Year_enc': '2016', 'Season_enc': '1'}\n"
          ]
        },
        {
          "metadata": {
            "tags": null
          },
          "name": "stderr",
          "output_type": "stream",
          "text": [
            "/usr/local/lib/python3.10/dist-packages/sklearn/base.py:439: UserWarning: X does not have valid feature names, but RandomForestClassifier was fitted with feature names\n",
            "  warnings.warn(\n",
            "INFO:werkzeug:127.0.0.1 - - [15/Mar/2024 20:49:21] \"POST /cropPrediction HTTP/1.1\" 200 -\n"
          ]
        },
        {
          "metadata": {
            "tags": null
          },
          "name": "stdout",
          "output_type": "stream",
          "text": [
            "JSON Input: {'Season': '3', 'State': '0', 'Area': '1234.5', 'Annual_Rainfall': '2051.5', 'Fertilizer': '7024878.38', 'Yield': '0.796087'}\n"
          ]
        },
        {
          "metadata": {
            "tags": null
          },
          "name": "stderr",
          "output_type": "stream",
          "text": [
            "/usr/local/lib/python3.10/dist-packages/sklearn/base.py:439: UserWarning: X does not have valid feature names, but RandomForestRegressor was fitted with feature names\n",
            "  warnings.warn(\n",
            "INFO:werkzeug:127.0.0.1 - - [15/Mar/2024 21:02:52] \"POST /yeild HTTP/1.1\" 200 -\n"
          ]
        },
        {
          "metadata": {
            "tags": null
          },
          "name": "stdout",
          "output_type": "stream",
          "text": [
            "JSON Input: {'Area': 31, 'Crop_enc': 7, 'Season_enc': 0, 'State_enc': 5, 'Year_enc': 2024}\n"
          ]
        },
        {
          "metadata": {
            "tags": null
          },
          "name": "stderr",
          "output_type": "stream",
          "text": [
            "/usr/local/lib/python3.10/dist-packages/sklearn/base.py:439: UserWarning: X does not have valid feature names, but RandomForestClassifier was fitted with feature names\n",
            "  warnings.warn(\n",
            "INFO:werkzeug:127.0.0.1 - - [15/Mar/2024 21:28:46] \"POST /cropPrediction HTTP/1.1\" 200 -\n"
          ]
        },
        {
          "metadata": {
            "tags": null
          },
          "name": "stdout",
          "output_type": "stream",
          "text": [
            "JSON Input: {'Annual_Rainfall': 88, 'Area': 122, 'Fertilizer': 1223, 'Season': 1, 'State': 1, 'Yield': 147}\n"
          ]
        },
        {
          "metadata": {
            "tags": null
          },
          "name": "stderr",
          "output_type": "stream",
          "text": [
            "/usr/local/lib/python3.10/dist-packages/sklearn/base.py:439: UserWarning: X does not have valid feature names, but RandomForestClassifier was fitted with feature names\n",
            "  warnings.warn(\n",
            "INFO:werkzeug:127.0.0.1 - - [15/Mar/2024 21:30:04] \"POST /cropPrediction HTTP/1.1\" 200 -\n"
          ]
        },
        {
          "metadata": {
            "tags": null
          },
          "name": "stdout",
          "output_type": "stream",
          "text": [
            "JSON Input: {'Annual_Rainfall': 12234, 'Area': 45, 'Fertilizer': 444, 'Season': 5, 'State': 5, 'Yield': 1448}\n"
          ]
        },
        {
          "metadata": {
            "tags": null
          },
          "name": "stderr",
          "output_type": "stream",
          "text": [
            "/usr/local/lib/python3.10/dist-packages/sklearn/base.py:439: UserWarning: X does not have valid feature names, but RandomForestRegressor was fitted with feature names\n",
            "  warnings.warn(\n",
            "INFO:werkzeug:127.0.0.1 - - [15/Mar/2024 21:30:51] \"POST /yeild HTTP/1.1\" 200 -\n"
          ]
        },
        {
          "metadata": {
            "tags": null
          },
          "name": "stdout",
          "output_type": "stream",
          "text": [
            "JSON Input: {'Area': 144, 'Crop_enc': 6, 'Season_enc': 1, 'State_enc': 9, 'Year_enc': 2024}\n"
          ]
        },
        {
          "metadata": {
            "tags": null
          },
          "name": "stderr",
          "output_type": "stream",
          "text": [
            "/usr/local/lib/python3.10/dist-packages/sklearn/base.py:439: UserWarning: X does not have valid feature names, but RandomForestClassifier was fitted with feature names\n",
            "  warnings.warn(\n",
            "INFO:werkzeug:127.0.0.1 - - [15/Mar/2024 22:18:15] \"POST /cropPrediction HTTP/1.1\" 200 -\n"
          ]
        },
        {
          "metadata": {
            "tags": null
          },
          "name": "stdout",
          "output_type": "stream",
          "text": [
            "JSON Input: {'Annual_Rainfall': 50, 'Area': 20, 'Fertilizer': 2, 'Season': 1, 'State': 3, 'Yield': 30}\n"
          ]
        },
        {
          "metadata": {
            "tags": null
          },
          "name": "stderr",
          "output_type": "stream",
          "text": [
            "/usr/local/lib/python3.10/dist-packages/sklearn/base.py:439: UserWarning: X does not have valid feature names, but RandomForestRegressor was fitted with feature names\n",
            "  warnings.warn(\n",
            "INFO:werkzeug:127.0.0.1 - - [15/Mar/2024 22:19:45] \"POST /yeild HTTP/1.1\" 200 -\n"
          ]
        },
        {
          "metadata": {
            "tags": null
          },
          "name": "stdout",
          "output_type": "stream",
          "text": [
            "JSON Input: {'Area': 20, 'Crop_enc': 3, 'Season_enc': 0, 'State_enc': 4, 'Year_enc': 2024}\n"
          ]
        }
      ]
    },
    {
      "cell_type": "code",
      "source": [
        "!pip install gdown\n"
      ],
      "metadata": {
        "colab": {
          "base_uri": "https://localhost:8080/"
        },
        "id": "5An8_8fUX-lH",
        "outputId": "89992685-0e6b-41a8-9424-422d77b951dd"
      },
      "execution_count": null,
      "outputs": [
        {
          "output_type": "stream",
          "name": "stdout",
          "text": [
            "Requirement already satisfied: gdown in /usr/local/lib/python3.10/dist-packages (4.7.3)\n",
            "Requirement already satisfied: filelock in /usr/local/lib/python3.10/dist-packages (from gdown) (3.13.1)\n",
            "Requirement already satisfied: requests[socks] in /usr/local/lib/python3.10/dist-packages (from gdown) (2.31.0)\n",
            "Requirement already satisfied: six in /usr/local/lib/python3.10/dist-packages (from gdown) (1.16.0)\n",
            "Requirement already satisfied: tqdm in /usr/local/lib/python3.10/dist-packages (from gdown) (4.66.2)\n",
            "Requirement already satisfied: beautifulsoup4 in /usr/local/lib/python3.10/dist-packages (from gdown) (4.12.3)\n",
            "Requirement already satisfied: soupsieve>1.2 in /usr/local/lib/python3.10/dist-packages (from beautifulsoup4->gdown) (2.5)\n",
            "Requirement already satisfied: charset-normalizer<4,>=2 in /usr/local/lib/python3.10/dist-packages (from requests[socks]->gdown) (3.3.2)\n",
            "Requirement already satisfied: idna<4,>=2.5 in /usr/local/lib/python3.10/dist-packages (from requests[socks]->gdown) (3.6)\n",
            "Requirement already satisfied: urllib3<3,>=1.21.1 in /usr/local/lib/python3.10/dist-packages (from requests[socks]->gdown) (2.0.7)\n",
            "Requirement already satisfied: certifi>=2017.4.17 in /usr/local/lib/python3.10/dist-packages (from requests[socks]->gdown) (2024.2.2)\n",
            "Requirement already satisfied: PySocks!=1.5.7,>=1.5.6 in /usr/local/lib/python3.10/dist-packages (from requests[socks]->gdown) (1.7.1)\n"
          ]
        }
      ]
    },
    {
      "cell_type": "code",
      "source": [
        "import gdown\n",
        "\n",
        "# Google Drive file ID\n",
        "file_id = '1-3rgN388_wZbw3nwkMd_zWGATTLplCdr'\n",
        "\n",
        "# URL to download the file\n",
        "url = f'https://drive.google.com/uc?id={file_id}'\n",
        "\n",
        "# Destination path where the file will be saved\n",
        "output_path = '/content/crop_yield.pkl'  # Change the path as needed\n",
        "\n",
        "# Download the file\n",
        "gdown.download(url, output_path, quiet=False)"
      ],
      "metadata": {
        "colab": {
          "base_uri": "https://localhost:8080/",
          "height": 142
        },
        "id": "BWVX7nhHX-oG",
        "outputId": "947c08fb-c066-42f5-bc9f-9594c6b4c001"
      },
      "execution_count": null,
      "outputs": [
        {
          "output_type": "stream",
          "name": "stderr",
          "text": [
            "Downloading...\n",
            "From (original): https://drive.google.com/uc?id=1-3rgN388_wZbw3nwkMd_zWGATTLplCdr\n",
            "From (redirected): https://drive.google.com/uc?id=1-3rgN388_wZbw3nwkMd_zWGATTLplCdr&confirm=t&uuid=c38f0f20-bd80-43b7-8cc4-0585ee3f9840\n",
            "To: /content/crop_yield.pkl\n",
            "100%|██████████| 317M/317M [00:03<00:00, 91.6MB/s]\n"
          ]
        },
        {
          "output_type": "execute_result",
          "data": {
            "text/plain": [
              "'/content/crop_yield.pkl'"
            ],
            "application/vnd.google.colaboratory.intrinsic+json": {
              "type": "string"
            }
          },
          "metadata": {},
          "execution_count": 11
        }
      ]
    },
    {
      "cell_type": "code",
      "source": [],
      "metadata": {
        "id": "XMghIrM9aNkf"
      },
      "execution_count": null,
      "outputs": []
    }
  ]
}